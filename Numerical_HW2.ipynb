{
 "cells": [
  {
   "cell_type": "code",
   "execution_count": 1,
   "id": "29be9fb7",
   "metadata": {},
   "outputs": [],
   "source": [
    "import meep as mp\n",
    "import numpy as np\n",
    "import matplotlib.pyplot as plt"
   ]
  },
  {
   "cell_type": "code",
   "execution_count": 2,
   "id": "6e9e7e81",
   "metadata": {},
   "outputs": [],
   "source": [
    "wvl_max = 50\n",
    "wvl_min = 12.5\n",
    "freq_min = 1/wvl_max\n",
    "freq_max = 1/wvl_min\n",
    "nfreq = 5000\n",
    "fcen = (freq_min + freq_max)/2\n",
    "df = (freq_max - freq_min)\n",
    "dfp = 2/3"
   ]
  },
  {
   "cell_type": "code",
   "execution_count": 3,
   "id": "0215ad74",
   "metadata": {},
   "outputs": [],
   "source": [
    "dpml = np.floor(0.5*wvl_max)+1\n",
    "\n",
    "dA = 2\n",
    "dB = 3\n",
    "epsilonA = 12\n",
    "epsilonB = 3\n",
    "\n",
    "NAB = 5\n",
    "NBA = 5\n",
    "\n",
    "sz = 4*dpml+(dA+dB)*(NAB+NBA)\n",
    "\n",
    "resolution = 50 # pixels/μm\n",
    "\n",
    "cell_size = mp.Vector3(z=sz)\n",
    "\n",
    "pml_layers = [mp.PML(thickness=dpml)]\n",
    "source_z = -0.5*sz+dpml\n",
    "flux_z = 0.5*sz-dpml\n",
    "pt = mp.Vector3(z=flux_z-0.5)"
   ]
  },
  {
   "cell_type": "code",
   "execution_count": 4,
   "id": "4f96d721-24eb-4850-9b10-679f4e00b02e",
   "metadata": {},
   "outputs": [],
   "source": [
    "def BlockP(geometry, ep, d, start_p, N):\n",
    "    for i in range(N):\n",
    "        geometry.append(mp.Block(mp.Vector3(mp.inf,mp.inf,d[0]),\n",
    "                                 center = mp.Vector3(z=start_p + d[0]/2),\n",
    "                                 material = mp.Medium(epsilon=ep[0])))\n",
    "        start_p = start_p + d[0]\n",
    "        geometry.append(mp.Block(mp.Vector3(mp.inf,mp.inf,d[1]),\n",
    "                                 center = mp.Vector3(z=start_p + d[1]/2),\n",
    "                                 material = mp.Medium(epsilon=ep[1])))\n",
    "        start_p = start_p + d[1]\n",
    "    return geometry              "
   ]
  },
  {
   "cell_type": "code",
   "execution_count": 5,
   "id": "12b8e0e2-82a5-47bd-babc-6e216f8e293f",
   "metadata": {},
   "outputs": [],
   "source": [
    "geometry = BlockP([], [epsilonA,epsilonB], [dA,dB], -(dA+dB)*NAB, N=NAB)\n",
    "geometry = BlockP(geometry, [epsilonB,epsilonA], [dB,dA], 0, N=NBA)"
   ]
  },
  {
   "cell_type": "code",
   "execution_count": 6,
   "id": "a72f1ef7",
   "metadata": {},
   "outputs": [],
   "source": [
    "sources = [mp.Source(mp.GaussianSource(fcen,fwidth=df),\n",
    "                     component=mp.Ex,\n",
    "                     center=mp.Vector3(z=source_z),\n",
    "                     size=mp.Vector3(mp.inf, mp.inf, 0))]"
   ]
  },
  {
   "cell_type": "code",
   "execution_count": 13,
   "id": "62b9d4c1",
   "metadata": {},
   "outputs": [],
   "source": [
    "sim_vac = mp.Simulation(cell_size=cell_size,\n",
    "                    resolution=resolution,\n",
    "                    boundary_layers=pml_layers,\n",
    "                    dimensions=1,\n",
    "                    sources=sources)\n",
    "tran_fr = mp.FluxRegion(center=mp.Vector3(z=flux_z))\n",
    "tran = sim_vac.add_flux(fcen, df*dfp, nfreq, tran_fr)"
   ]
  },
  {
   "cell_type": "code",
   "execution_count": 14,
   "id": "cef9fa34-7e23-45c8-adc8-f32740c2b181",
   "metadata": {},
   "outputs": [
    {
     "name": "stdout",
     "output_type": "stream",
     "text": [
      "-----------\n",
      "Initializing structure...\n",
      "time for choose_chunkdivision = 0.00341105 s\n",
      "Working in 1D dimensions.\n",
      "Computational cell is 0 x 0 x 154 with resolution 50\n",
      "time for set_epsilon = 0.00509501 s\n",
      "-----------\n",
      "energy decay(t = 50.01): 0.01434066283963303 / 0.01434066283963303 = 1.0\n",
      "energy decay(t = 100.01): 4.024919446834476 / 4.024919446834476 = 1.0\n",
      "energy decay(t = 150.02): 3.759371527454621 / 4.024919446834476 = 0.9340240412541168\n",
      "energy decay(t = 200.03): 1.2198428308498044 / 4.024919446834476 = 0.30307260728141727\n",
      "energy decay(t = 250.04): 1.2759668829416063e-05 / 4.024919446834476 = 3.1701675022220148e-06\n",
      "run 0 finished at t = 250.04 (25004 timesteps)\n"
     ]
    }
   ],
   "source": [
    "sim_vac.run(until_after_sources=mp.stop_when_energy_decayed(50,1e-3))\n",
    "vac_flux = mp.get_fluxes(tran)"
   ]
  },
  {
   "cell_type": "code",
   "execution_count": 17,
   "id": "24fabd77",
   "metadata": {},
   "outputs": [],
   "source": [
    "sim = mp.Simulation(cell_size=cell_size,\n",
    "                    resolution=resolution,\n",
    "                    boundary_layers=pml_layers,\n",
    "                    sources=sources,\n",
    "                    dimensions=1,\n",
    "                    geometry=geometry)\n",
    "tran = sim.add_flux(fcen, df*dfp, nfreq, tran_fr)"
   ]
  },
  {
   "cell_type": "code",
   "execution_count": 18,
   "id": "48a516b3-d3e3-4143-ab87-cc0781570c64",
   "metadata": {},
   "outputs": [
    {
     "name": "stdout",
     "output_type": "stream",
     "text": [
      "-----------\n",
      "Initializing structure...\n",
      "time for choose_chunkdivision = 0.00350714 s\n",
      "Working in 1D dimensions.\n",
      "Computational cell is 0 x 0 x 154 with resolution 50\n",
      "     block, center = (0,0,-24)\n",
      "          size (1e+20,1e+20,2)\n",
      "          axes (1,0,0), (0,1,0), (0,0,1)\n",
      "          dielectric constant epsilon diagonal = (12,12,12)\n",
      "     block, center = (0,0,-21.5)\n",
      "          size (1e+20,1e+20,3)\n",
      "          axes (1,0,0), (0,1,0), (0,0,1)\n",
      "          dielectric constant epsilon diagonal = (3,3,3)\n",
      "     block, center = (0,0,-19)\n",
      "          size (1e+20,1e+20,2)\n",
      "          axes (1,0,0), (0,1,0), (0,0,1)\n",
      "          dielectric constant epsilon diagonal = (12,12,12)\n",
      "     block, center = (0,0,-16.5)\n",
      "          size (1e+20,1e+20,3)\n",
      "          axes (1,0,0), (0,1,0), (0,0,1)\n",
      "          dielectric constant epsilon diagonal = (3,3,3)\n",
      "     block, center = (0,0,-14)\n",
      "          size (1e+20,1e+20,2)\n",
      "          axes (1,0,0), (0,1,0), (0,0,1)\n",
      "          dielectric constant epsilon diagonal = (12,12,12)\n",
      "     block, center = (0,0,-11.5)\n",
      "          size (1e+20,1e+20,3)\n",
      "          axes (1,0,0), (0,1,0), (0,0,1)\n",
      "          dielectric constant epsilon diagonal = (3,3,3)\n",
      "     block, center = (0,0,-9)\n",
      "          size (1e+20,1e+20,2)\n",
      "          axes (1,0,0), (0,1,0), (0,0,1)\n",
      "          dielectric constant epsilon diagonal = (12,12,12)\n",
      "     block, center = (0,0,-6.5)\n",
      "          size (1e+20,1e+20,3)\n",
      "          axes (1,0,0), (0,1,0), (0,0,1)\n",
      "          dielectric constant epsilon diagonal = (3,3,3)\n",
      "     block, center = (0,0,-4)\n",
      "          size (1e+20,1e+20,2)\n",
      "          axes (1,0,0), (0,1,0), (0,0,1)\n",
      "          dielectric constant epsilon diagonal = (12,12,12)\n",
      "     block, center = (0,0,-1.5)\n",
      "          size (1e+20,1e+20,3)\n",
      "          axes (1,0,0), (0,1,0), (0,0,1)\n",
      "          dielectric constant epsilon diagonal = (3,3,3)\n",
      "     ...(+ 10 objects not shown)...\n",
      "time for set_epsilon = 0.0105839 s\n",
      "-----------\n",
      "energy decay(t = 50.01): 0.014340662845441166 / 0.014340662845441166 = 1.0\n",
      "energy decay(t = 100.01): 4.040253516397408 / 4.040253516397408 = 1.0\n",
      "energy decay(t = 150.02): 2.805434640878913 / 4.040253516397408 = 0.6943709421928671\n",
      "energy decay(t = 200.03): 1.8321562383112835 / 4.040253516397408 = 0.4534755630743119\n",
      "energy decay(t = 250.04): 1.771493053089165 / 4.040253516397408 = 0.43846086536390433\n",
      "energy decay(t = 300.04): 1.0667018844330984 / 4.040253516397408 = 0.26401855232694643\n",
      "energy decay(t = 350.05): 0.5244525457849003 / 4.040253516397408 = 0.12980684099559706\n",
      "energy decay(t = 400.06): 0.41993894160873213 / 4.040253516397408 = 0.10393876025462408\n",
      "energy decay(t = 450.07): 0.3114947367474947 / 4.040253516397408 = 0.07709781960050038\n",
      "energy decay(t = 500.08): 0.20774260264622696 / 4.040253516397408 = 0.05141820972448921\n",
      "energy decay(t = 550.08): 0.14927294444624453 / 4.040253516397408 = 0.036946430178309064\n",
      "energy decay(t = 600.09): 0.10252065844327442 / 4.040253516397408 = 0.025374808295368922\n",
      "energy decay(t = 650.1): 0.08415857428755646 / 4.040253516397408 = 0.020830023152259645\n",
      "energy decay(t = 700.11): 0.06616434049395373 / 4.040253516397408 = 0.016376284365677823\n",
      "energy decay(t = 750.12): 0.046363696122485004 / 4.040253516397408 = 0.011475442304379538\n",
      "energy decay(t = 800.13): 0.03618622315588335 / 4.040253516397408 = 0.00895642389989173\n",
      "energy decay(t = 850.14): 0.03113069868648834 / 4.040253516397408 = 0.0077051349773335\n",
      "energy decay(t = 900.15): 0.024831115595955737 / 4.040253516397408 = 0.006145930074728829\n",
      "energy decay(t = 950.16): 0.019323917778390196 / 4.040253516397408 = 0.004782847833672785\n",
      "energy decay(t = 1000.1700000000001): 0.0164658172636931 / 4.040253516397408 = 0.0040754416020842305\n",
      "energy decay(t = 1050.17): 0.014508442908148041 / 4.040253516397408 = 0.0035909734003733637\n",
      "energy decay(t = 1100.18): 0.012265423676785178 / 4.040253516397408 = 0.0030358054580005528\n",
      "energy decay(t = 1150.19): 0.010695771750591481 / 4.040253516397408 = 0.0026473021326960267\n",
      "energy decay(t = 1200.2): 0.009596673852183154 / 4.040253516397408 = 0.002375265268190464\n",
      "energy decay(t = 1250.21): 0.008789734731690195 / 4.040253516397408 = 0.0021755403951798993\n",
      "energy decay(t = 1300.22): 0.007986201103425622 / 4.040253516397408 = 0.0019766584128974945\n",
      "on time step 130329 (time=1303.29), 3.06916e-05 s/step\n",
      "energy decay(t = 1350.23): 0.007422670410434955 / 4.040253516397408 = 0.001837179370133576\n",
      "energy decay(t = 1400.24): 0.006977555236091554 / 4.040253516397408 = 0.0017270092601301078\n",
      "energy decay(t = 1450.25): 0.006647299412017412 / 4.040253516397408 = 0.0016452678984225327\n",
      "energy decay(t = 1500.26): 0.0063357643353372 / 4.040253516397408 = 0.0015681600943167151\n",
      "energy decay(t = 1550.27): 0.006118290024436946 / 4.040253516397408 = 0.0015143331970644432\n",
      "energy decay(t = 1600.28): 0.005926702156181071 / 4.040253516397408 = 0.0014669134330624286\n",
      "energy decay(t = 1650.29): 0.0057863478860268915 / 4.040253516397408 = 0.0014321744570094284\n",
      "energy decay(t = 1700.3): 0.005650528246860609 / 4.040253516397408 = 0.0013985578439392194\n",
      "energy decay(t = 1750.31): 0.005549467596250633 / 4.040253516397408 = 0.0013735444010451485\n",
      "energy decay(t = 1800.32): 0.005453426231162975 / 4.040253516397408 = 0.001349773277600079\n",
      "energy decay(t = 1850.33): 0.005379756649791017 / 4.040253516397408 = 0.0013315393769121721\n",
      "energy decay(t = 1900.3400000000001): 0.005305024204866932 / 4.040253516397408 = 0.0013130424076945764\n",
      "energy decay(t = 1950.3500000000001): 0.005245328195517556 / 4.040253516397408 = 0.0012982670949308849\n",
      "energy decay(t = 2000.3600000000001): 0.005187438692353676 / 4.040253516397408 = 0.00128393890910568\n",
      "energy decay(t = 2050.36): 0.005138797928212083 / 4.040253516397408 = 0.001271899871470001\n",
      "energy decay(t = 2100.37): 0.005089041357279851 / 4.040253516397408 = 0.0012595846613649188\n",
      "energy decay(t = 2150.38): 0.005047141997750906 / 4.040253516397408 = 0.001249214183532551\n",
      "energy decay(t = 2200.39): 0.005005327336468579 / 4.040253516397408 = 0.0012388646692972135\n",
      "energy decay(t = 2250.4): 0.004966667770086884 / 4.040253516397408 = 0.001229296070142533\n",
      "energy decay(t = 2300.41): 0.004928127819736196 / 4.040253516397408 = 0.0012197570770584917\n",
      "energy decay(t = 2350.42): 0.004893168677895539 / 4.040253516397408 = 0.0012111043670988877\n",
      "energy decay(t = 2400.43): 0.00485690820673037 / 4.040253516397408 = 0.0012021295661320658\n",
      "energy decay(t = 2450.44): 0.004822697285878388 / 4.040253516397408 = 0.0011936620477664146\n",
      "energy decay(t = 2500.4500000000003): 0.004789025162762171 / 4.040253516397408 = 0.0011853278868085542\n",
      "energy decay(t = 2550.46): 0.00475603777759464 / 4.040253516397408 = 0.0011771632048068802\n",
      "energy decay(t = 2600.4700000000003): 0.00472288717642248 / 4.040253516397408 = 0.0011689581253390652\n",
      "on time step 263384 (time=2633.84), 3.00628e-05 s/step\n",
      "energy decay(t = 2650.48): 0.0046914192232891585 / 4.040253516397408 = 0.0011611695167763577\n",
      "energy decay(t = 2700.4900000000002): 0.0046594695531463615 / 4.040253516397408 = 0.0011532616788119505\n",
      "energy decay(t = 2750.5): 0.004628060189347306 / 4.040253516397408 = 0.001145487571649719\n",
      "energy decay(t = 2800.51): 0.0045973077554609465 / 4.040253516397408 = 0.0011378760606983518\n",
      "energy decay(t = 2850.52): 0.004566746214376195 / 4.040253516397408 = 0.0011303117974755818\n",
      "energy decay(t = 2900.53): 0.004536013283939395 / 4.040253516397408 = 0.0011227051138078194\n",
      "energy decay(t = 2950.54): 0.004506248815947053 / 4.040253516397408 = 0.001115338133525136\n",
      "energy decay(t = 3000.55): 0.004476331897518925 / 4.040253516397408 = 0.0011079334203538684\n",
      "energy decay(t = 3050.56): 0.0044464631937850075 / 4.040253516397408 = 0.001100540640764\n",
      "energy decay(t = 3100.57): 0.004417253479734805 / 4.040253516397408 = 0.0010933109671973154\n",
      "energy decay(t = 3150.58): 0.004388134503581148 / 4.040253516397408 = 0.0010861037520967093\n",
      "energy decay(t = 3200.59): 0.0043588310269941245 / 4.040253516397408 = 0.0010788508714375882\n",
      "energy decay(t = 3250.6): 0.004330293292952431 / 4.040253516397408 = 0.0010717875191192567\n",
      "energy decay(t = 3300.61): 0.004301786202730976 / 4.040253516397408 = 0.001064731751428997\n",
      "energy decay(t = 3350.62): 0.00427312355847879 / 4.040253516397408 = 0.0010576374826817864\n",
      "energy decay(t = 3400.63): 0.004245114964613381 / 4.040253516397408 = 0.0010507050974362228\n",
      "energy decay(t = 3450.64): 0.004217265807840169 / 4.040253516397408 = 0.0010438121743411286\n",
      "energy decay(t = 3500.65): 0.004189152027272576 / 4.040253516397408 = 0.0010368537544168607\n",
      "energy decay(t = 3550.66): 0.004161686946387218 / 4.040253516397408 = 0.0010300558936455278\n",
      "energy decay(t = 3600.67): 0.004134427029336866 / 4.040253516397408 = 0.0010233088128151497\n",
      "energy decay(t = 3650.6800000000003): 0.0041068845381444265 / 4.040253516397408 = 0.001016491792279023\n",
      "energy decay(t = 3700.69): 0.004079906924166642 / 4.040253516397408 = 0.001009814584062188\n",
      "energy decay(t = 3750.7000000000003): 0.004053238682424808 / 4.040253516397408 = 0.0010032139483264354\n",
      "energy decay(t = 3800.71): 0.004026245238911205 / 4.040253516397408 = 0.0009965328221535233\n",
      "run 0 finished at t = 3800.71 (380071 timesteps)\n"
     ]
    }
   ],
   "source": [
    "sim.run(until_after_sources=mp.stop_when_energy_decayed(50,1e-3))\n",
    "tran_flux = mp.get_fluxes(tran)"
   ]
  },
  {
   "cell_type": "code",
   "execution_count": 19,
   "id": "4ebb20ed-7d9e-496d-9a07-445dba456dbd",
   "metadata": {},
   "outputs": [
    {
     "data": {
      "image/png": "[encoded data removed]",
      "text/plain": [
       "<Figure size 640x480 with 1 Axes>"
      ]
     },
     "metadata": {},
     "output_type": "display_data"
    }
   ],
   "source": [
    "ex_data = sim.get_array(component=mp.Dielectric,center=mp.Vector3(),size=mp.Vector3(z=sz))\n",
    "plt.plot(ex_data)\n",
    "plt.show()"
   ]
  },
  {
   "cell_type": "code",
   "execution_count": 20,
   "id": "63001136-2c7a-461b-b357-3b21350e8ae1",
   "metadata": {},
   "outputs": [
    {
     "data": {
      "image/png": "[encoded data removed]",
      "text/plain": [
       "<Figure size 640x480 with 1 Axes>"
      ]
     },
     "metadata": {},
     "output_type": "display_data"
    }
   ],
   "source": [
    "flux_freqs = mp.get_flux_freqs(tran)\n",
    "tran_flux = np.array(tran_flux)\n",
    "vac_flux = np.array(vac_flux)\n",
    "plt.plot(flux_freqs, tran_flux/vac_flux)\n",
    "plt.xlabel(\"$1/\\lambda$ ($1/\\mu$m)\")\n",
    "plt.ylabel(\"T\")\n",
    "plt.show()"
   ]
  }
 ],
 "metadata": {
  "kernelspec": {
   "display_name": "Python 3 (ipykernel)",
   "language": "python",
   "name": "python3"
  },
  "language_info": {
   "codemirror_mode": {
    "name": "ipython",
    "version": 3
   },
   "file_extension": ".py",
   "mimetype": "text/x-python",
   "name": "python",
   "nbconvert_exporter": "python",
   "pygments_lexer": "ipython3",
   "version": "3.8.19"
  }
 },
 "nbformat": 4,
 "nbformat_minor": 5
}
